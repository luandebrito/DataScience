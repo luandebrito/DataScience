{
 "cells": [
  {
   "cell_type": "markdown",
   "metadata": {},
   "source": [
    "# **Cracking the Code: Unlocking Success in Trading with Reinforcement Learning**\n"
   ]
  },
  {
   "cell_type": "markdown",
   "metadata": {},
   "source": [
    "This project focuses on applying reinforcement learning techniques to develop an automated stock trading system. By leveraging technical indicators and a defined reward function, the project aims to train an intelligent agent capable of making informed decisions on buying, selling, or holding stocks. The project involves preprocessing stock data, defining the trading environment, training the reinforcement learning agent using algorithms like Deep Q-Network, and evaluating its performance on separate datasets. Through this project, the goal is to create a robust model that can adapt to changing market conditions and optimize trading strategies for potential profit.\n",
    "\n",
    "> Disclaimer: This project is solely for learning purposes and does not serve as a financial trading advisor.\n",
    "\n",
    "| <img src=\"https://cf-courses-data.s3.us.cloud-object-storage.appdomain.cloud/IBMSkillsNetwork-GPXX0SQEN/images/wance-paleri-HPM0CDfNtx0-unsplash.jpg\" width=\"400\" alt=\"trading; image credit: https://unsplash.com/\"> |\n",
    "|:--:| \n"
   ]
  },
  {
   "cell_type": "markdown",
   "metadata": {},
   "source": [
    "## __Table of Contents__\n",
    "\n",
    "<ol>\n",
    "    <li><a href=\"#Objectives\">Objectives</a></li>\n",
    "    <li>\n",
    "        <a href=\"#Setup\">Setup</a>\n",
    "        <ol>\n",
    "            <li><a href=\"#Installing-Required-Libraries\">Installing Required Libraries</a></li>\n",
    "            <li><a href=\"#Importing-Required-Libraries\">Importing Required Libraries</a></li>\n",
    "        </ol>\n",
    "    </li>\n",
    "    <li>\n",
    "        <a href=\"#Indicators\">Types of Indicators</a>\n",
    "        <ol>\n",
    "            <li><a href=\"#\">Trend Indicators</a></li>\n",
    "            <li><a href=\"#\">Momentum Indicators</a></li>\n",
    "            <li><a href=\"#\">Volume Indicators</a></li>\n",
    "            <li><a href=\"#\">Volatility Indicators</a></li>\n",
    "        </ol>\n",
    "    </li>\n",
    "    <li><a href=\"#\">Reinforcement Learning</a></li>\n",
    "    <li><a href=\"#\">Defining Environment</a></li>\n",
    "    <li><a href=\"#\">Defining Agent</a></li>\n",
    "    <li><a href=\"#\">Training Agent</a></li>\n",
    "    <li><a href=\"#\">Testing Agent</a></li>\n",
    "    <li><a href=\"#\">Tips on Tuning Agent</a></li>\n",
    "</ol>\n",
    "\n",
    "<a href=\"#Practice on more data\">Practice on More Data</a>\n"
   ]
  },
  {
   "cell_type": "markdown",
   "metadata": {},
   "source": [
    "----\n"
   ]
  },
  {
   "cell_type": "markdown",
   "metadata": {},
   "source": [
    "## Setup\n"
   ]
  },
  {
   "cell_type": "markdown",
   "metadata": {},
   "source": [
    "### Installing Required Libraries\n"
   ]
  },
  {
   "cell_type": "markdown",
   "metadata": {},
   "source": [
    "The following required libraries are __not__ pre-installed in the Skills Network Labs environment. __You will need to run the following cell__ to install them:\n"
   ]
  },
  {
   "cell_type": "code",
   "execution_count": 1,
   "metadata": {},
   "outputs": [
    {
     "name": "stdout",
     "output_type": "stream",
     "text": [
      "Looking in indexes: https://pypi.org/simple, https://pypi.ngc.nvidia.comNote: you may need to restart the kernel to use updated packages.\n",
      "\n",
      "Requirement already satisfied: gym in c:\\users\\luan.brito\\onedrive - kumulus\\documents\\00. study\\datascience_class_notes\\.venv\\lib\\site-packages (0.22.0)\n",
      "Collecting yfinance\n",
      "  Downloading yfinance-0.2.37-py2.py3-none-any.whl.metadata (11 kB)\n",
      "Collecting ta\n",
      "  Downloading ta-0.11.0.tar.gz (25 kB)\n",
      "  Preparing metadata (setup.py): started\n",
      "  Preparing metadata (setup.py): finished with status 'done'\n",
      "Requirement already satisfied: numpy>=1.18.0 in c:\\users\\luan.brito\\onedrive - kumulus\\documents\\00. study\\datascience_class_notes\\.venv\\lib\\site-packages (from gym) (1.26.4)\n",
      "Requirement already satisfied: cloudpickle>=1.2.0 in c:\\users\\luan.brito\\onedrive - kumulus\\documents\\00. study\\datascience_class_notes\\.venv\\lib\\site-packages (from gym) (3.0.0)\n",
      "Requirement already satisfied: gym-notices>=0.0.4 in c:\\users\\luan.brito\\onedrive - kumulus\\documents\\00. study\\datascience_class_notes\\.venv\\lib\\site-packages (from gym) (0.0.8)\n",
      "Requirement already satisfied: pandas>=1.3.0 in c:\\users\\luan.brito\\onedrive - kumulus\\documents\\00. study\\datascience_class_notes\\.venv\\lib\\site-packages (from yfinance) (2.2.1)\n",
      "Requirement already satisfied: requests>=2.31 in c:\\users\\luan.brito\\onedrive - kumulus\\documents\\00. study\\datascience_class_notes\\.venv\\lib\\site-packages (from yfinance) (2.31.0)\n",
      "Collecting multitasking>=0.0.7 (from yfinance)\n",
      "  Downloading multitasking-0.0.11-py3-none-any.whl.metadata (5.5 kB)\n",
      "Collecting lxml>=4.9.1 (from yfinance)\n",
      "  Downloading lxml-5.2.1-cp310-cp310-win_amd64.whl.metadata (3.5 kB)\n",
      "Collecting appdirs>=1.4.4 (from yfinance)\n",
      "  Downloading appdirs-1.4.4-py2.py3-none-any.whl.metadata (9.0 kB)\n",
      "Requirement already satisfied: pytz>=2022.5 in c:\\users\\luan.brito\\onedrive - kumulus\\documents\\00. study\\datascience_class_notes\\.venv\\lib\\site-packages (from yfinance) (2024.1)\n",
      "Collecting frozendict>=2.3.4 (from yfinance)\n",
      "  Downloading frozendict-2.4.1-cp310-cp310-win_amd64.whl.metadata (23 kB)\n",
      "Collecting peewee>=3.16.2 (from yfinance)\n",
      "  Downloading peewee-3.17.1.tar.gz (3.0 MB)\n",
      "     ---------------------------------------- 0.0/3.0 MB ? eta -:--:--\n",
      "     ----- ---------------------------------- 0.4/3.0 MB 12.5 MB/s eta 0:00:01\n",
      "     ------------ --------------------------- 0.9/3.0 MB 11.9 MB/s eta 0:00:01\n",
      "     -------------------- ------------------- 1.5/3.0 MB 11.9 MB/s eta 0:00:01\n",
      "     --------------------------- ------------ 2.0/3.0 MB 11.8 MB/s eta 0:00:01\n",
      "     ---------------------------------- ----- 2.6/3.0 MB 11.7 MB/s eta 0:00:01\n",
      "     ---------------------------------------- 3.0/3.0 MB 11.8 MB/s eta 0:00:00\n",
      "  Installing build dependencies: started\n",
      "  Installing build dependencies: finished with status 'done'\n",
      "  Getting requirements to build wheel: started\n",
      "  Getting requirements to build wheel: finished with status 'done'\n",
      "  Preparing metadata (pyproject.toml): started\n",
      "  Preparing metadata (pyproject.toml): finished with status 'done'\n",
      "Collecting beautifulsoup4>=4.11.1 (from yfinance)\n",
      "  Downloading beautifulsoup4-4.12.3-py3-none-any.whl.metadata (3.8 kB)\n",
      "Collecting html5lib>=1.1 (from yfinance)\n",
      "  Downloading html5lib-1.1-py2.py3-none-any.whl.metadata (16 kB)\n",
      "Collecting soupsieve>1.2 (from beautifulsoup4>=4.11.1->yfinance)\n",
      "  Downloading soupsieve-2.5-py3-none-any.whl.metadata (4.7 kB)\n",
      "Requirement already satisfied: six>=1.9 in c:\\users\\luan.brito\\onedrive - kumulus\\documents\\00. study\\datascience_class_notes\\.venv\\lib\\site-packages (from html5lib>=1.1->yfinance) (1.16.0)\n",
      "Collecting webencodings (from html5lib>=1.1->yfinance)\n",
      "  Downloading webencodings-0.5.1-py2.py3-none-any.whl.metadata (2.1 kB)\n",
      "Requirement already satisfied: python-dateutil>=2.8.2 in c:\\users\\luan.brito\\onedrive - kumulus\\documents\\00. study\\datascience_class_notes\\.venv\\lib\\site-packages (from pandas>=1.3.0->yfinance) (2.9.0.post0)\n",
      "Requirement already satisfied: tzdata>=2022.7 in c:\\users\\luan.brito\\onedrive - kumulus\\documents\\00. study\\datascience_class_notes\\.venv\\lib\\site-packages (from pandas>=1.3.0->yfinance) (2024.1)\n",
      "Requirement already satisfied: charset-normalizer<4,>=2 in c:\\users\\luan.brito\\onedrive - kumulus\\documents\\00. study\\datascience_class_notes\\.venv\\lib\\site-packages (from requests>=2.31->yfinance) (3.3.2)\n",
      "Requirement already satisfied: idna<4,>=2.5 in c:\\users\\luan.brito\\onedrive - kumulus\\documents\\00. study\\datascience_class_notes\\.venv\\lib\\site-packages (from requests>=2.31->yfinance) (3.6)\n",
      "Requirement already satisfied: urllib3<3,>=1.21.1 in c:\\users\\luan.brito\\onedrive - kumulus\\documents\\00. study\\datascience_class_notes\\.venv\\lib\\site-packages (from requests>=2.31->yfinance) (2.2.1)\n",
      "Requirement already satisfied: certifi>=2017.4.17 in c:\\users\\luan.brito\\onedrive - kumulus\\documents\\00. study\\datascience_class_notes\\.venv\\lib\\site-packages (from requests>=2.31->yfinance) (2024.2.2)\n",
      "Downloading yfinance-0.2.37-py2.py3-none-any.whl (72 kB)\n",
      "   ---------------------------------------- 0.0/73.0 kB ? eta -:--:--\n",
      "   ---------------------------------------- 73.0/73.0 kB ? eta 0:00:00\n",
      "Downloading appdirs-1.4.4-py2.py3-none-any.whl (9.6 kB)\n",
      "Downloading beautifulsoup4-4.12.3-py3-none-any.whl (147 kB)\n",
      "   ---------------------------------------- 0.0/147.9 kB ? eta -:--:--\n",
      "   ---------------------------------------- 147.9/147.9 kB 9.2 MB/s eta 0:00:00\n",
      "Downloading frozendict-2.4.1-cp310-cp310-win_amd64.whl (36 kB)\n",
      "Downloading html5lib-1.1-py2.py3-none-any.whl (112 kB)\n",
      "   ---------------------------------------- 0.0/112.2 kB ? eta -:--:--\n",
      "   ---------------------------------------- 112.2/112.2 kB ? eta 0:00:00\n",
      "Downloading lxml-5.2.1-cp310-cp310-win_amd64.whl (3.8 MB)\n",
      "   ---------------------------------------- 0.0/3.8 MB ? eta -:--:--\n",
      "   ------ --------------------------------- 0.6/3.8 MB 12.4 MB/s eta 0:00:01\n",
      "   ----------- ---------------------------- 1.1/3.8 MB 11.9 MB/s eta 0:00:01\n",
      "   ----------------- ---------------------- 1.7/3.8 MB 11.8 MB/s eta 0:00:01\n",
      "   ----------------------- ---------------- 2.2/3.8 MB 11.8 MB/s eta 0:00:01\n",
      "   ---------------------------- ----------- 2.7/3.8 MB 11.6 MB/s eta 0:00:01\n",
      "   ---------------------------------- ----- 3.3/3.8 MB 11.6 MB/s eta 0:00:01\n",
      "   ---------------------------------------- 3.8/3.8 MB 11.6 MB/s eta 0:00:00\n",
      "Downloading multitasking-0.0.11-py3-none-any.whl (8.5 kB)\n",
      "Downloading soupsieve-2.5-py3-none-any.whl (36 kB)\n",
      "Downloading webencodings-0.5.1-py2.py3-none-any.whl (11 kB)\n",
      "Building wheels for collected packages: ta, peewee\n",
      "  Building wheel for ta (setup.py): started\n",
      "  Building wheel for ta (setup.py): finished with status 'done'\n",
      "  Created wheel for ta: filename=ta-0.11.0-py3-none-any.whl size=29421 sha256=3e2bc5581747037f87ef7386de62b37ca6cf8b5fc4c20be47a1268334f62dccd\n",
      "  Stored in directory: C:\\Users\\luan.brito\\AppData\\Local\\Temp\\pip-ephem-wheel-cache-riy8p4g2\\wheels\\5f\\67\\4f\\8a9f252836e053e532c6587a3230bc72a4deb16b03a829610b\n",
      "  Building wheel for peewee (pyproject.toml): started\n",
      "  Building wheel for peewee (pyproject.toml): finished with status 'done'\n",
      "  Created wheel for peewee: filename=peewee-3.17.1-py3-none-any.whl size=136948 sha256=d23b1c1a3c2fa8e5e8381e433755105f9cef50a1978254481e3192f001705a47\n",
      "  Stored in directory: C:\\Users\\luan.brito\\AppData\\Local\\Temp\\pip-ephem-wheel-cache-riy8p4g2\\wheels\\d7\\35\\5c\\1374782be033462df5f40174d8d879519d64ed8c25a1977554\n",
      "Successfully built ta peewee\n",
      "Installing collected packages: webencodings, peewee, multitasking, appdirs, soupsieve, lxml, html5lib, frozendict, beautifulsoup4, yfinance, ta\n",
      "Successfully installed appdirs-1.4.4 beautifulsoup4-4.12.3 frozendict-2.4.1 html5lib-1.1 lxml-5.2.1 multitasking-0.0.11 peewee-3.17.1 soupsieve-2.5 ta-0.11.0 webencodings-0.5.1 yfinance-0.2.37\n"
     ]
    }
   ],
   "source": [
    "%pip install gym yfinance ta"
   ]
  },
  {
   "attachments": {},
   "cell_type": "markdown",
   "metadata": {},
   "source": [
    "Once you have installed that, please **restart your kernel**. You can do that by navigating to the button shown below:\n",
    "\n",
    "\n",
    "Now, let's proceed to check if this environment has a compatible GPU model or not:\n"
   ]
  },
  {
   "cell_type": "markdown",
   "metadata": {},
   "source": [
    "### Importing Required Libraries\n",
    "\n",
    "_We recommend you import all required libraries in one place (here):_\n"
   ]
  },
  {
   "cell_type": "code",
   "execution_count": 2,
   "metadata": {},
   "outputs": [
    {
     "name": "stderr",
     "output_type": "stream",
     "text": [
      "\n"
     ]
    }
   ],
   "source": [
    "# You can also use this section to suppress warnings generated by your code:\n",
    "def warn(*args, **kwargs):\n",
    "    pass\n",
    "import warnings\n",
    "warnings.warn = warn\n",
    "warnings.filterwarnings('ignore')\n",
    "\n",
    "import gym\n",
    "import yfinance as yf\n",
    "import ta   # ta documentation: https://technical-analysis-library-in-python.readthedocs.io/en/latest/\n",
    "from tqdm import tqdm\n",
    "import numpy as np\n",
    "import pandas as pd\n",
    "from itertools import accumulate\n",
    "import matplotlib.pyplot as plt\n",
    "import seaborn as sns\n",
    "%matplotlib inline\n",
    "\n",
    "\n",
    "sns.set_style(\"darkgrid\")"
   ]
  },
  {
   "cell_type": "markdown",
   "metadata": {},
   "source": [
    "--------\n"
   ]
  },
  {
   "cell_type": "markdown",
   "metadata": {},
   "source": [
    "## Look a head:\n",
    "We are aiming to implement reinforcement learning system for stock trading using indicators:\n",
    "\n",
    "Step 1: Data preparation\n",
    "- Preprocess the stock dataset by cleaning and add indicators.\n",
    "\n",
    "Step 2: Define the environment \n",
    "- Define the action space, which represents the actions the agent can take. In this case, the agent can either buy or sell the stock.\n",
    "- Define the state space, which represents the current state of the stock. In this case, the state space can include the current price, the indicators.\n",
    "- Define the reward function, which will be used to evaluate the agent's performance. In this case, the reward function can be based on the profit or loss made by the agent.\n",
    "\n",
    "Step 3: Define the agent\n",
    "- Define the agent, which will take actions based on the current state of the stock and the reward function.\n",
    "- Choose a reinforcement learning algorithm such as Q-Learning or Deep Q-Network (DQN) to train the agent.\n",
    "\n",
    "Step 4: Train the agent\n",
    "- Train the agent using the stock data and the defined reward function.\n",
    "- The agent should learn the optimal policy for buying and selling the stock based on the current state of the stock and the reward function.\n",
    "\n",
    "Step 5: Test the agent\n",
    "- Test the agent on a separate dataset to evaluate its performance.\n",
    "\n",
    "Step 6: Refine the model\n",
    "- Refine the model by adjusting the parameters of the reinforcement learning algorithm, the reward function, or the state space.\n",
    "\n",
    "------\n"
   ]
  },
  {
   "cell_type": "markdown",
   "metadata": {},
   "source": [
    "## Loading the Data\n",
    "\n"
   ]
  },
  {
   "cell_type": "markdown",
   "metadata": {},
   "source": [
    "Using Yahoo Finance python library (`yfinance`), we are able to retrieve live data in each call.\n",
    "\n",
    "In the example below, we obtain hourly data of S&P500 (the ticker is `^GSPC`) in the period of 2 years. You can change the ticker to `AAPL` to obtain Apple stock prices.\n"
   ]
  },
  {
   "cell_type": "code",
   "execution_count": 3,
   "metadata": {},
   "outputs": [
    {
     "name": "stderr",
     "output_type": "stream",
     "text": [
      "[*********************100%%**********************]  1 of 1 completed"
     ]
    },
    {
     "name": "stdout",
     "output_type": "stream",
     "text": [
      "shape of dataset:  (3502, 6)\n"
     ]
    },
    {
     "name": "stderr",
     "output_type": "stream",
     "text": [
      "\n"
     ]
    },
    {
     "data": {
      "text/html": [
       "<div>\n",
       "<style scoped>\n",
       "    .dataframe tbody tr th:only-of-type {\n",
       "        vertical-align: middle;\n",
       "    }\n",
       "\n",
       "    .dataframe tbody tr th {\n",
       "        vertical-align: top;\n",
       "    }\n",
       "\n",
       "    .dataframe thead th {\n",
       "        text-align: right;\n",
       "    }\n",
       "</style>\n",
       "<table border=\"1\" class=\"dataframe\">\n",
       "  <thead>\n",
       "    <tr style=\"text-align: right;\">\n",
       "      <th></th>\n",
       "      <th>Open</th>\n",
       "      <th>High</th>\n",
       "      <th>Low</th>\n",
       "      <th>Close</th>\n",
       "      <th>Adj Close</th>\n",
       "      <th>Volume</th>\n",
       "    </tr>\n",
       "    <tr>\n",
       "      <th>Datetime</th>\n",
       "      <th></th>\n",
       "      <th></th>\n",
       "      <th></th>\n",
       "      <th></th>\n",
       "      <th></th>\n",
       "      <th></th>\n",
       "    </tr>\n",
       "  </thead>\n",
       "  <tbody>\n",
       "    <tr>\n",
       "      <th>2022-04-11 09:30:00</th>\n",
       "      <td>4462.640137</td>\n",
       "      <td>4464.350098</td>\n",
       "      <td>4438.790039</td>\n",
       "      <td>4441.470215</td>\n",
       "      <td>4441.470215</td>\n",
       "      <td>0</td>\n",
       "    </tr>\n",
       "    <tr>\n",
       "      <th>2022-04-11 10:30:00</th>\n",
       "      <td>4441.839844</td>\n",
       "      <td>4442.350098</td>\n",
       "      <td>4430.430176</td>\n",
       "      <td>4433.950195</td>\n",
       "      <td>4433.950195</td>\n",
       "      <td>295411364</td>\n",
       "    </tr>\n",
       "    <tr>\n",
       "      <th>2022-04-11 11:30:00</th>\n",
       "      <td>4433.970215</td>\n",
       "      <td>4441.330078</td>\n",
       "      <td>4431.600098</td>\n",
       "      <td>4431.709961</td>\n",
       "      <td>4431.709961</td>\n",
       "      <td>223656022</td>\n",
       "    </tr>\n",
       "    <tr>\n",
       "      <th>2022-04-11 12:30:00</th>\n",
       "      <td>4431.660156</td>\n",
       "      <td>4439.759766</td>\n",
       "      <td>4428.549805</td>\n",
       "      <td>4430.979980</td>\n",
       "      <td>4430.979980</td>\n",
       "      <td>206391000</td>\n",
       "    </tr>\n",
       "    <tr>\n",
       "      <th>2022-04-11 13:30:00</th>\n",
       "      <td>4430.990234</td>\n",
       "      <td>4439.750000</td>\n",
       "      <td>4427.649902</td>\n",
       "      <td>4430.200195</td>\n",
       "      <td>4430.200195</td>\n",
       "      <td>201027000</td>\n",
       "    </tr>\n",
       "  </tbody>\n",
       "</table>\n",
       "</div>"
      ],
      "text/plain": [
       "                            Open         High          Low        Close  \\\n",
       "Datetime                                                                  \n",
       "2022-04-11 09:30:00  4462.640137  4464.350098  4438.790039  4441.470215   \n",
       "2022-04-11 10:30:00  4441.839844  4442.350098  4430.430176  4433.950195   \n",
       "2022-04-11 11:30:00  4433.970215  4441.330078  4431.600098  4431.709961   \n",
       "2022-04-11 12:30:00  4431.660156  4439.759766  4428.549805  4430.979980   \n",
       "2022-04-11 13:30:00  4430.990234  4439.750000  4427.649902  4430.200195   \n",
       "\n",
       "                       Adj Close     Volume  \n",
       "Datetime                                     \n",
       "2022-04-11 09:30:00  4441.470215          0  \n",
       "2022-04-11 10:30:00  4433.950195  295411364  \n",
       "2022-04-11 11:30:00  4431.709961  223656022  \n",
       "2022-04-11 12:30:00  4430.979980  206391000  \n",
       "2022-04-11 13:30:00  4430.200195  201027000  "
      ]
     },
     "execution_count": 3,
     "metadata": {},
     "output_type": "execute_result"
    }
   ],
   "source": [
    "tickers = \"^GSPC\"  #\"^GSPC\" S&P500\n",
    "df = yf.download(tickers = tickers ,       # list of tickers\n",
    "                  period = \"2y\",         # time period\n",
    "                  interval = \"1h\",       # trading interval\n",
    "                  ignore_tz = True,      # ignore timezone when aligning data from different exchanges?\n",
    "                  prepost = False)       # download pre/post market hours data?  \n",
    "print(\"shape of dataset: \",df.shape)\n",
    "df.head()"
   ]
  },
  {
   "cell_type": "markdown",
   "metadata": {},
   "source": [
    "You can see that the `yfinance` library returns a dataframe with 6 columns. To plot the price, we have selected the `Adj Close` column, which represents the adjusted price taking into account any stock splits that may have occurred prior to the specified date. We specify the `split_line` which is the point of separating data into Training and Testing.\n"
   ]
  },
  {
   "cell_type": "code",
   "execution_count": 4,
   "metadata": {},
   "outputs": [],
   "source": [
    "split_line = int(np.round(len(df)* 0.1)) # use 10% of data for testing"
   ]
  },
  {
   "cell_type": "code",
   "execution_count": 5,
   "metadata": {},
   "outputs": [
    {
     "data": {
      "image/png": "[encoded data removed]",
      "text/plain": [
       "<Figure size 1200x400 with 1 Axes>"
      ]
     },
     "metadata": {},
     "output_type": "display_data"
    }
   ],
   "source": [
    "# Get min and max of 'Adj Close'\n",
    "adj_close_min = df['Adj Close'].min()\n",
    "adj_close_max = df['Adj Close'].max()\n",
    "\n",
    "# Set the background color\n",
    "sns.set_style(rc = {'axes.facecolor': 'lightsteelblue'})\n",
    "plt.figure(figsize=(12,4))\n",
    "\n",
    "# Create line plot\n",
    "sns.lineplot(data=df[\"Adj Close\"],label = \"Adjusted Close Price\")\n",
    "plt.xticks(rotation=45)\n",
    "plt.title(tickers)\n",
    "\n",
    "# single vline with full ymin and ymax\n",
    "plt.vlines(x=df.index[-split_line], ymin=adj_close_min, ymax=adj_close_max, colors='green', ls=':', lw=2, label='Train-Test Split Point')\n",
    "\n",
    "plt.legend(bbox_to_anchor=(1.0, 1), loc='upper left')\n",
    "plt.show()\n"
   ]
  },
  {
   "cell_type": "markdown",
   "metadata": {},
   "source": [
    "## Step 1: Data Preparation (Adding Trading Indicators)\n"
   ]
  },
  {
   "cell_type": "markdown",
   "metadata": {},
   "source": [
    "Trading indicators are tools used by traders to analyze market data and make informed trading decisions. There are several types of trading indicators, each with unique characteristics and applications. Here are five types of trading indicators with an example for each:\n",
    "  \n",
    "\n",
    "1. Momentum Indicators\n",
    "2. Volume Indicators\n",
    "3. Volatility Indicators\n",
    "4. Trend Indicators\n",
    "5. Support and Resistance\n",
    "\n",
    "\n",
    "Remember that no single indicator is perfect, and traders often use a combination of indicators to make more informed decisions. It's essential to understand the strengths and limitations of each indicator and apply them in the context of your trading strategy and risk management.\n",
    "\n",
    "> ___The Good trading strategy is the one that employs all types of market behaviour (all types of indicator)___\n"
   ]
  },
  {
   "cell_type": "markdown",
   "metadata": {},
   "source": [
    "### Trend Indicators \n",
    "\n",
    "These indicators help traders identify the direction and strength of a market trend. They typically measure the asset's price movement over time and help traders determine if a trend is bullish (upward) or bearish (downward).\n",
    "\n",
    "Example: Moving Averages (MA)\n",
    "Moving averages smooth out price data by calculating the average price of an asset over a specified time period. Popular types of moving averages include the Simple Moving Average (SMA) and the Exponential Moving Average (EMA). Traders often use moving averages to identify trends and potential entry/exit points.\n"
   ]
  },
  {
   "cell_type": "markdown",
   "metadata": {},
   "source": [
    "#### EMAs : Exponential moving averages\n"
   ]
  },
  {
   "cell_type": "code",
   "execution_count": null,
   "metadata": {},
   "outputs": [],
   "source": [
    "df['EMA7'] = ta.trend.EMAIndicator(close= df['Adj Close'], window= 7, fillna= False).ema_indicator()\n",
    "df['EMA14'] = ta.trend.EMAIndicator(close= df['Adj Close'], window= 14, fillna= False).ema_indicator()\n",
    "df['EMA50'] = ta.trend.EMAIndicator(close= df['Adj Close'], window= 50, fillna= False).ema_indicator()\n",
    "df['EMA200'] = ta.trend.EMAIndicator(close= df['Adj Close'], window= 50, fillna= False).ema_indicator()"
   ]
  },
  {
   "cell_type": "markdown",
   "metadata": {},
   "source": [
    "Plotting the EMAs.\n"
   ]
  },
  {
   "cell_type": "code",
   "execution_count": null,
   "metadata": {},
   "outputs": [],
   "source": [
    "# Set the background color\n",
    "sns.set_style(rc = {'axes.facecolor': 'lightsteelblue'})\n",
    "plt.figure(figsize=(12,4))\n",
    "\n",
    "# Create line plot\n",
    "sns.lineplot(data=df[\"Adj Close\"],label = \"Adjusted Close Price\")\n",
    "sns.lineplot(data=df[\"EMA7\"],label = \"EMA7\")\n",
    "sns.lineplot(data=df[\"EMA14\"],label = \"EMA14\")\n",
    "sns.lineplot(data=df[\"EMA50\"],label = \"EMA50\")\n",
    "sns.lineplot(data=df[\"EMA200\"],label = \"EMA200\")\n",
    "\n",
    "\n",
    "plt.xticks(rotation=45)\n",
    "plt.title(tickers)"
   ]
  },
  {
   "cell_type": "markdown",
   "metadata": {},
   "source": [
    "### Momentum Indicators \n",
    "\n",
    "These indicators measure the strength and rate of change in price movements. They help traders identify potential turning points in the market and can indicate whether an asset is overbought or oversold.\n",
    "\n",
    "Example: Relative Strength Index (RSI) and MACD\n",
    "The RSI is a popular momentum oscillator that measures the speed and change of price movements on a scale of 0-100. An RSI reading below 30 typically indicates that an asset is oversold, while a reading above 70 suggests that it is overbought.\n",
    "\n",
    "The Moving Average Convergence Divergence (MACD) is a momentum indicator. It helps traders identify trend direction, potential trend reversals, and the strength of price movements. The MACD is calculated by subtracting a longer-term Exponential Moving Average (EMA) from a shorter-term EMA, usually the 26-day and 12-day EMAs, respectively. A signal line, typically the 9-day EMA of the MACD, is also plotted on the same chart.\n"
   ]
  },
  {
   "cell_type": "markdown",
   "metadata": {},
   "source": [
    "\n",
    " \n",
    " | <img src=\"https://commodity.com/wp-content/uploads/technical-analysis/MACDbasicsQQQQ.gif\" width=\"500\" alt=\"MACD\">|\n",
    "|:--:| \n",
    "| *An example of MACD, image credit: commodity.com*  |\n"
   ]
  },
  {
   "cell_type": "code",
   "execution_count": null,
   "metadata": {},
   "outputs": [],
   "source": [
    "df['MACD_line'] =ta.trend.MACD(close= df['Adj Close'], window_slow= 26, window_fast= 12, window_sign = 9, fillna = False).macd()\n",
    "df['MACD_signal'] =ta.trend.MACD(close= df['Adj Close'], window_slow= 26, window_fast= 12, window_sign = 9, fillna = False).macd_signal()\n",
    "df['MACD_diff'] =ta.trend.MACD(close= df['Adj Close'], window_slow= 26, window_fast= 12, window_sign = 9, fillna = False).macd_diff()"
   ]
  },
  {
   "cell_type": "markdown",
   "metadata": {},
   "source": [
    "#### RSI: Relative Strength Index \n"
   ]
  },
  {
   "cell_type": "markdown",
   "metadata": {},
   "source": [
    "\n",
    "\n",
    "| <img src=\"https://www.investopedia.com/thmb/lXq2-HwfRcFpe_0NsEieuTXXaUw=/1500x0/filters:no_upscale():max_bytes(150000):strip_icc()/dotdash_final_Relative_Strength_Index_RSI_Jul_2020-01-98fcd0c032cb4f0da005c31c44440c90.jpg\" width=\"500\" alt=\"RSI, credit: www.investopedia.com\">|\n",
    "|:--:| \n",
    "| An example of RSI indicator *image credit: https://pixabay.com/* |\n"
   ]
  },
  {
   "cell_type": "code",
   "execution_count": null,
   "metadata": {},
   "outputs": [],
   "source": [
    "df['RSI']=ta.momentum.RSIIndicator(close= df['Adj Close'], window= 14, fillna= False).rsi()"
   ]
  },
  {
   "cell_type": "markdown",
   "metadata": {},
   "source": [
    "### Volume Indicators \n",
    "\n",
    "> These indicators analyze the trading volume to assess the strength and significance of price movements. High volume can confirm the validity of a trend or signal a reversal.\n",
    "\n",
    "> On-Balance Volume (OBV) is a cumulative indicator that adds volume on up days and subtracts volume on down days. It helps traders identify buying or selling pressure in the market. A rising OBV indicates strong buying pressure, while a falling OBV signals strong selling pressure.\n",
    "4. Volatility Indicators: These indicators measure the degree of price fluctuations and help traders gauge market sentiment and potential price breakouts.\n"
   ]
  },
  {
   "cell_type": "code",
   "execution_count": null,
   "metadata": {},
   "outputs": [],
   "source": [
    "# adding Volumn indicator\n",
    "df['OBV']= ta.volume.OnBalanceVolumeIndicator(close= df['Adj Close'], volume= df['Volume'], fillna = False).on_balance_volume()\n",
    "df.head()"
   ]
  },
  {
   "cell_type": "markdown",
   "metadata": {},
   "source": [
    "### Volatility Indicators\n",
    "> These indicators measure the degree of price fluctuations and help traders gauge market sentiment and potential price breakouts.\n",
    "\n",
    "> Bollinger Bands consist of a centerline (typically an SMA) and two outer bands, which are standard deviations above and below the centerline. The bands expand and contract based on market volatility. When the bands are narrow, volatility is low, and when they widen, volatility is high. Traders use Bollinger Bands to identify potential entry/exit points and overbought/oversold conditions.\n",
    "\n",
    "\n",
    "| <img src=\"https://a.c-dn.net/b/3u3xku/trading-forex-with-bollinger-bands_body_Mainimage.png\" width=\"50%\" alt=\"BB image credit:https://www.dailyfx.com/\">|\n",
    "|:--:| \n",
    "| An example of MACD indicator *image credit: https://www.dailyfx.com/* |\n"
   ]
  },
  {
   "cell_type": "code",
   "execution_count": null,
   "metadata": {},
   "outputs": [],
   "source": [
    "df['BBH']=ta.volatility.BollingerBands(df['Adj Close'], window = 20, window_dev = 2, fillna = False).bollinger_hband_indicator()\n",
    "df['BBL']=ta.volatility.BollingerBands(df['Adj Close'], window = 20, window_dev = 2, fillna = False).bollinger_lband_indicator()\n",
    "df.head()"
   ]
  },
  {
   "cell_type": "code",
   "execution_count": null,
   "metadata": {},
   "outputs": [],
   "source": [
    "df.shape"
   ]
  },
  {
   "cell_type": "code",
   "execution_count": null,
   "metadata": {},
   "outputs": [],
   "source": [
    "df.columns"
   ]
  },
  {
   "cell_type": "code",
   "execution_count": null,
   "metadata": {},
   "outputs": [],
   "source": [
    "df=df.dropna()\n",
    "df = df.drop(columns=['Open', 'High', 'Low', 'Close', 'Volume'],axis=1)\n",
    "df.head()"
   ]
  },
  {
   "cell_type": "code",
   "execution_count": null,
   "metadata": {},
   "outputs": [],
   "source": [
    "train_data = df.iloc[:-split_line,:]\n",
    "test_data = df.iloc[-split_line:,:]\n",
    "input_shape= train_data.shape[1]\n",
    "print(input_shape)\n",
    "print('Training data:',train_data.shape)\n",
    "print('Testing data',test_data.shape)"
   ]
  },
  {
   "cell_type": "markdown",
   "metadata": {},
   "source": [
    "## Step 2: Define the environment\n"
   ]
  },
  {
   "cell_type": "markdown",
   "metadata": {},
   "source": [
    "\n",
    "\n",
    "|  |  |\n",
    "|-----|---|\n",
    "|    | **Environment**  |\n",
    "| <img style=\"float: left;\" src=\"https://cf-courses-data.s3.us.cloud-object-storage.appdomain.cloud/IBMSkillsNetwork-GPXX0SQEN/images/_2800865b-9afe-411a-9d9c-80e322f466b3.jpeg\" width=\"900\" alt=\"environment\"> | <span style=\"font-family: Verdana, sans-serif; font-size: 15px;\"> The `StockTradingEnv` is a custom environment for stock trading, which extends the `gym.Env` class from OpenAI's Gym library. The environment is initialized with stock data containing daily stock prices and various technical indicators. The environment's purpose is to simulate a stock trading scenario where an agent can decide to buy or sell shares based on the provided market data.</span> <br>  <br> The main components of the environment are: <br> - Initialization <br> - Reset <br> - Step <br> - Get observation |\n",
    "\n",
    "\n",
    "\n",
    "\n",
    "\n",
    "1. **Initialization** : The environment is initialized with stock data and defines the action and observation spaces. The action space is discrete, with two possible actions (0: Buy, 1: Sell). The observation space is continuous, consisting of the stock's closing price and the values of various technical indicators at the current time step. \n",
    "    - In the  code, `self.action_space = gym.spaces.MultiDiscrete([3, 10])` defines the action space for the StockTradingEnv environment. `gym.spaces.MultiDiscrete` is a class from the OpenAI Gym library that is used to define a multidimensional discrete action space. It accepts a list of integers, where each integer specifies the number of possible values for a particular dimension. In this case, [3, 10] is passed to the MultiDiscrete class, creating a 2D action space with the following properties: The first dimension has 3 possible values (0, 1, 2), which represent different action types: buy (0), sell (1), or hold (2). The second dimension has 10 possible values (0, 1, 2, ..., 9), representing the number of shares to trade during the buy or sell action.\n",
    "    \n",
    "2. **Reset** : The `reset` method resets the environment to its initial state, setting the current step to 0, resetting profits, shares held, and net worth, and returning the initial observation. \n",
    "3. **Step** : The `step` method takes in an action and updates the environment state accordingly. If the action is to buy, the environment calculates the number of shares that can be bought with the available cash, deducts the purchase price from the cash balance, and adds the purchased shares to the shares held variable. If the action is to sell, the environment sells the specified number of shares, adds the sale price to the cash balance, and calculates the profits made based on the difference between the purchase and sale prices. The method returns the updated observation, profits, done flag, and an empty dictionary.\n",
    "4. **Get observation** : The `_get_obs` method returns the current observation, which is a numpy array containing the stock's closing price and the values of various technical indicators at the current time step.\n",
    "\n",
    "The environment provides a framework for training reinforcement learning agents in a stock trading scenario by allowing them to take actions (buy or sell shares) based on the available market data and learn from the resulting profits.\n",
    "\n",
    "___Exercise: Fill the gap with the proper code___\n"
   ]
  },
  {
   "cell_type": "code",
   "execution_count": null,
   "metadata": {},
   "outputs": [],
   "source": [
    "import gym\n",
    "import numpy as np\n",
    "\n",
    "class StockTradingEnv(gym.Env):\n",
    "    def __init__(self, data, initial_cash=10000, commission=0.000):\n",
    "        # Define the action space as a 2D vector representing the action type (buy or sell) and number of shares to trade\n",
    "        self.action_space = gym.spaces.MultiDiscrete([3, 10])  # [action, number of shares]\n",
    "\n",
    "        # Define the observation space as a X-D vector containing various indicators of the stock price\n",
    "        self.observation_space = gym.spaces.Box(low=-np.inf, high=np.inf, shape=(12,), dtype=np.float32)\n",
    "\n",
    "        # Store the historical stock data, initial cash balance, and commission rate as instance variables\n",
    "        self.data = data\n",
    "        self.initial_cash = initial_cash\n",
    "        self.commission = commission\n",
    "        self.end_step = len(self.data) - 1\n",
    "\n",
    "        # Reset the environment to its initial state\n",
    "        self.reset()\n",
    "\n",
    "    def reset(self):\n",
    "        # Set the current step to 0 and reset the state variables\n",
    "        self.current_step = 0\n",
    "        self.profits = 0\n",
    "        self.shares_held = 0\n",
    "        self.cash = self.initial_cash\n",
    "        self.buy_price = 0\n",
    "        self.sell_price = 0\n",
    "        self.done = False\n",
    "\n",
    "        # Return the initial observation\n",
    "        return self._get_obs()\n",
    "\n",
    "    def step(self, action):\n",
    "        action_type, amount = action\n",
    "\n",
    "        if action_type == 0:\n",
    "            cost = self.data['Adj Close'][self.current_step] * amount\n",
    "            if self.cash >= cost:\n",
    "                self.cash -= cost\n",
    "                self.shares_held += amount\n",
    "                self.buy_price = self.data['Adj Close'][self.current_step]\n",
    "        elif action_type == 1:\n",
    "            shares_sold = min(self.shares_held, amount)\n",
    "            revenue = self.data['Adj Close'][self.current_step] * shares_sold\n",
    "            self.cash += revenue\n",
    "            self.profits += (self.data['Adj Close'][self.current_step] - self.buy_price) * shares_sold\n",
    "            self.shares_held -= shares_sold\n",
    "            self.sell_price = self.data['Adj Close'][self.current_step]\n",
    "\n",
    "        self.current_step += 1\n",
    "\n",
    "        # Calculate the total portfolio value\n",
    "        portfolio_value = self.cash + (self.shares_held * self.data['Adj Close'][self.current_step])\n",
    "  \n",
    "        # Calculate the reward based on the change in portfolio value at each stept\n",
    "        reward = portfolio_value - (self.cash + (self.shares_held * self.data['Adj Close'][self.current_step - 1]))\n",
    "        done = (self.current_step == self.end_step)\n",
    "        return self._get_obs(), reward, done, {}\n",
    "\n",
    "\n",
    "    def _get_obs(self):\n",
    "    # Calculate the observation vector for the current step\n",
    "        obs = np.array([\n",
    "            self.data['Adj Close'][self.current_step],\n",
    "            # try yourself\n",
    "            # get the current observation for each indicator\n",
    "            # write your code here\n",
    "            \n",
    "            \n",
    "            \n",
    "            \n",
    "            \n",
    "        ])\n",
    "\n",
    "        # Return the observation vector\n",
    "        return obs\n"
   ]
  },
  {
   "cell_type": "markdown",
   "metadata": {},
   "source": [
    "<details>\n",
    "    <summary>Click here for Solution</summary>\n",
    "    \n",
    "```python\n",
    "    def _get_obs(self):\n",
    "    # Calculate the observation vector for the current step\n",
    "        obs = np.array([\n",
    "            self.data['Adj Close'][self.current_step],\n",
    "            self.data['EMA7'][self.current_step],\n",
    "            self.data['EMA14'][self.current_step],\n",
    "            self.data['EMA50'][self.current_step],\n",
    "            self.data['EMA200'][self.current_step],\n",
    "            self.data['MACD_line'][self.current_step],\n",
    "            self.data['MACD_signal'][self.current_step],\n",
    "            self.data['MACD_diff'][self.current_step],\n",
    "            self.data['RSI'][self.current_step],\n",
    "            self.data['OBV'][self.current_step],\n",
    "            self.data['BBH'][self.current_step],\n",
    "            self.data['BBL'][self.current_step],\n",
    "        ])\n",
    "```\n",
    "</details>\n"
   ]
  },
  {
   "cell_type": "markdown",
   "metadata": {},
   "source": [
    "\n",
    "___We defines a custom OpenAI gym environment for simulating a simple stock trading scenario, and implements the necessary methods for the reinforcement learning agent to interact with the environment. The observation and action spaces, as well as the reward function, can be customized to suit different trading strategies and datasets.___\n"
   ]
  },
  {
   "cell_type": "markdown",
   "metadata": {},
   "source": [
    "## Step 3: Define The Agent\n",
    "| <img src=\"https://cdn.pixabay.com/photo/2019/01/22/10/58/pixel-cells-3947912_1280.png\" width=\"200\" alt=\"Cyber attack image\"> |\n",
    "|:--:| \n",
    "| *image credit: https://pixabay.com/* |\n",
    "\n",
    "\n",
    "\n",
    "The `DQNAgent` class defines a deep Q-learning agent that uses a neural network to approximate the Q-function. This agent learns to make decisions in the stock trading environment based on the market data provided in the environment's observations.\n",
    "\n",
    "The agent's main components are described as follows:\n",
    "\n",
    "\n",
    "<div style=\"display: flex; align-items: center;\">\n",
    "  \n",
    "\n",
    "\n",
    "\n",
    "1. **Initialization**: The agent is initialized with the state size, action space, and various learning parameters, such as gamma, epsilon, epsilon decay, and learning rate. The agent also initializes a neural network model using the `_build_model` method.\n",
    "2. **Build Model**: The `_build_model` method defines a neural network architecture using TensorFlow's Keras API. The network consists of two hidden layers with 64 neurons each and ReLU activation functions. The output layer has a linear activation function, and the number of output neurons is equal to the size of the action space. The model is compiled using the mean squared error loss function and the Adam optimizer.\n",
    "3. **Remember**: The `remember` method stores the agent's experiences (state, action, reward, next state, done) in a memory buffer, implemented as a deque with a maximum length of 2000. This buffer is used to sample experiences for training the agent's neural network.\n",
    "4. **Act**: The `act` method selects an action based on the agent's current state. With probability epsilon, the agent selects a random action, and with probability 1 - epsilon, the agent selects the action with the highest Q-value predicted by the neural network. The agent's epsilon value decays over time to balance exploration and exploitation.\n",
    "5. **Replay**: The `replay` method samples a batch of experiences from the memory buffer and uses them to train the agent's neural network. The agent computes target Q-values for the selected actions based on the rewards and discounted future Q-values of the next states. The agent updates the neural network weights by minimizing the mean squared error between the predicted Q-values and the target Q-values.\n",
    "\n",
    "\n",
    "</div>\n",
    "\n",
    "<br>\n",
    "\n",
    "The `DQNAgent` class provides a framework for training a deep reinforcement learning agent to make buy and sell decisions in the stock trading environment using deep Q-learning. The agent learns to approximate the Q-function through a neural network and balances exploration and exploitation using an epsilon-greedy action selection strategy.\n"
   ]
  },
  {
   "cell_type": "code",
   "execution_count": null,
   "metadata": {},
   "outputs": [],
   "source": [
    "import random\n",
    "import numpy as np\n",
    "from collections import deque\n",
    "from tensorflow.keras.models import Sequential\n",
    "from tensorflow.keras.layers import Dense\n",
    "from tensorflow.keras.optimizers import SGD, Adam\n",
    "\n",
    "class DQNAgent:\n",
    "    def __init__(self, state_size, action_space,memory_size=3000):\n",
    "        # Initialize instance variables\n",
    "        self.state_size = state_size\n",
    "        self.action_space = action_space\n",
    "        self.action_size = action_space.nvec.prod()\n",
    "        self.memory = deque(maxlen=memory_size)\n",
    "        self.gamma = 0.95\n",
    "        self.epsilon = 1.0\n",
    "        self.epsilon_min = 0.01\n",
    "        self.epsilon_decay = 0.995\n",
    "        self.learning_rate = 0.01\n",
    "        self.model = self._build_model()\n",
    "\n",
    "    def _build_model(self):\n",
    "        # Build the neural network model\n",
    "        model = Sequential()\n",
    "        model.add(Dense(64, input_dim=self.state_size))\n",
    "        model.add(Dense(128, activation='relu'))\n",
    "        model.add(Dense(256, activation='relu'))\n",
    "        model.add(Dense(128, activation='relu'))\n",
    "        model.add(Dense(self.action_size, activation='relu'))\n",
    "        model.compile(loss='mse', optimizer=Adam(lr=self.learning_rate))\n",
    "        return model\n",
    "\n",
    "    def remember(self, state, action, reward, next_state, done):\n",
    "        # Store the experience in memory\n",
    "        self.memory.append((state, action, reward, next_state, done))\n",
    "\n",
    "    def act(self, state):\n",
    "        # Choose an action using the epsilon-greedy strategy\n",
    "        if np.random.rand() <= self.epsilon:\n",
    "            return (random.randrange(self.action_space.nvec[0]), random.randrange(self.action_space.nvec[1]))\n",
    "        act_values = self.model.predict(state)\n",
    "        return np.unravel_index(np.argmax(act_values[0]), self.action_space.nvec)\n",
    "\n",
    "    def replay(self, batch_size):\n",
    "        # Train the model using random samples from memory\n",
    "        minibatch = random.sample(self.memory, batch_size)\n",
    "        for state, action, reward, next_state, done in minibatch:\n",
    "            target = reward\n",
    "            if not done:\n",
    "                # Update target value for non-terminal states\n",
    "                target = reward + self.gamma * np.amax(self.model.predict(next_state)[0])\n",
    "            target_f = self.model.predict(state)\n",
    "\n",
    "            # Convert the action tuple to a linear index\n",
    "            action_idx = np.ravel_multi_index(action, self.action_space.nvec)\n",
    "\n",
    "            # Update the target value for the chosen action\n",
    "            target_f[0][action_idx] = target\n",
    "            self.model.fit(state, target_f, epochs=1, verbose=0)\n",
    "\n",
    "        # Decay the exploration rate if it's above the minimum threshold\n",
    "        if self.epsilon > self.epsilon_min:\n",
    "            self.epsilon *= self.epsilon_decay\n"
   ]
  },
  {
   "cell_type": "markdown",
   "metadata": {},
   "source": [
    "## Step 4: Train the Agent\n",
    "\n",
    "In this step, we train a `DQNAgent` in the `StockTradingEnv` using a deep Q-learning algorithm. The training process consists of the following steps: \n",
    "\n",
    "\n",
    "<div style=\"display: flex; align-items: center;\">\n",
    "  <img src=\"https://cf-courses-data.s3.us.cloud-object-storage.appdomain.cloud/IBMSkillsNetwork-GPXX0SQEN/_84d78f91-ffa6-43b7-ac39-f3b229beac78.jpeg\" width=\"30%\" alt=\"Image\" style=\"padding-right: 10px;\">\n",
    "\n",
    "\n",
    "\n",
    "1. Load the stock training data and create a StockTradingEnv using the data. Define the state size and action size based on the environment's observation space and action space. \n",
    "2. Create a DQNAgent using the state size and action space from the environment. Set the number of training episodes and the batch size for replaying experiences. \n",
    "3. Loop through the episodes and reset the environment at the beginning of each episode. Reshape the initial state to match the input format expected by the agent's neural network. Initialize a variable to keep track of the total reward for the episode. \n",
    "4. Within each episode, the agent selects an action based on its current state and the epsilon-greedy exploration strategy. The agent then performs the action in the environment and receives the next state, reward, and a flag indicating whether the episode has ended. \n",
    "5. The agent stores the experience (state, action, reward, next_state, done) in its memory buffer and updates its current state to the next state. \n",
    "6. At the end of each episode, print the episode number, total reward, and current epsilon value. If the agent's memory buffer has enough experiences, perform a replay step to update the neural network weights using a batch of sampled experiences.\n",
    "\n",
    "    \n",
    "</div>\n",
    "<br>\n",
    "\n",
    "The training process allows the agent to learn a policy for buying and selling stocks by interacting with the environment, updating its neural network, and balancing exploration and exploitation with the epsilon-greedy action selection strategy.\n"
   ]
  },
  {
   "cell_type": "code",
   "execution_count": null,
   "metadata": {},
   "outputs": [],
   "source": [
    "# Load the stock data\n",
    "data = train_data\n",
    "\n",
    "# Create the environment\n",
    "env = StockTradingEnv(data)\n",
    "state_size = env.observation_space.shape[0]\n",
    "action_size = env.action_space.nvec.prod()\n",
    "\n",
    "# Create and train the agent\n",
    "agent = DQNAgent(state_size, env.action_space)\n",
    "episodes = 100\n",
    "batch_size = 32\n",
    "\n",
    "for e in tqdm(range(episodes)):\n",
    "    state = env.reset()\n",
    "    state = np.reshape(state, [1, state_size])\n",
    "    total_reward = 0\n",
    "\n",
    "    while True:\n",
    "        action = agent.act(state)\n",
    "        next_state, reward, done, _ = env.step(action)\n",
    "        total_reward += reward\n",
    "        next_state = np.reshape(next_state, [1, state_size])\n",
    "\n",
    "        agent.remember(state, action, reward, next_state, done)\n",
    "        state = next_state\n",
    "\n",
    "        if done:\n",
    "            # print(f'Episode: {e + 1}/{episodes}, Total Reward: {total_reward}, Epsilon: {agent.epsilon:.2}')\n",
    "            break\n",
    "\n",
    "    if len(agent.memory) > batch_size:\n",
    "        agent.replay(batch_size)\n"
   ]
  },
  {
   "cell_type": "markdown",
   "metadata": {},
   "source": [
    "## Step 5: Test the agent\n",
    "\n",
    "Test the agent on a separate dataset to evaluate its performance. To test the agent on a separate dataset, we can create a new instance of the StockTradingEnv with the new dataset and use the trained agent to make decisions.\n"
   ]
  },
  {
   "cell_type": "code",
   "execution_count": null,
   "metadata": {},
   "outputs": [],
   "source": [
    "import matplotlib.pyplot as plt\n",
    "\n",
    "# Load the test data\n",
    "test_data = test_data.iloc[:,:]\n",
    "\n",
    "# change this to 1 to get records of all transactions\n",
    "verbose = 0\n",
    "\n",
    "# Create the test environment\n",
    "test_env = StockTradingEnv(test_data, initial_cash=10000)\n",
    "\n",
    "# Test the agent\n",
    "state = test_env.reset()\n",
    "state = np.reshape(state, [1, state_size])\n",
    "total_reward = 0\n",
    "\n",
    "# Initialize lists to store the buy and sell prices and the corresponding time steps\n",
    "buy_prices = []\n",
    "buy_times = []\n",
    "sell_prices = []\n",
    "sell_times = []\n",
    "\n",
    "# Initialize the list to store portfolio values and add the initial portfolio value\n",
    "portfolio_values = [test_env.cash]\n",
    "\n",
    "while True:\n",
    "    action = agent.act(state)\n",
    "    next_state, reward, done, _ = test_env.step(action)\n",
    "\n",
    "    # Calculate the total portfolio value\n",
    "    portfolio_value = test_env.cash + (test_env.shares_held * test_env.data['Adj Close'][test_env.current_step])\n",
    "    portfolio_values.append(portfolio_value)\n",
    "\n",
    "    # Print the action details\n",
    "    action_type, shares = action\n",
    "    if(verbose ==1):\n",
    "        if action_type == 0:\n",
    "            print(f\"Buy {shares} shares at price {test_env.data['Adj Close'][test_env.current_step]}\")\n",
    "        elif action_type == 1:\n",
    "            print(f\"Sell {shares} shares at price {test_env.data['Adj Close'][test_env.current_step]}\")\n",
    "\n",
    "        # Print available cash, number of shares held, and reward\n",
    "        print(f\"Available cash: {test_env.cash}\",f\",Shares held: {test_env.shares_held}\",f\",Reward: {reward}\")\n",
    "        print(\"------------------------------------------------\")\n",
    "\n",
    "    total_reward += reward\n",
    "    next_state = np.reshape(next_state, [1, state_size])\n",
    "    state = next_state\n",
    "    \n",
    "    # Check if a buy action was taken and record the price and time step\n",
    "    if action[0] == 0:\n",
    "        buy_prices.append(test_data['Adj Close'][test_env.current_step])\n",
    "        buy_times.append(test_data.index[test_env.current_step])\n",
    "\n",
    "    # Check if a sell action was taken and record the price and time step\n",
    "    elif action[0] == 1:\n",
    "        sell_prices.append(test_data['Adj Close'][test_env.current_step])\n",
    "        sell_times.append(test_data.index[test_env.current_step])\n",
    "\n",
    "    if done:\n",
    "        print(f'Test: Total Reward: {total_reward}')\n",
    "        break\n",
    "\n",
    "# Calculate the percentage change in the portfolio value\n",
    "portfolio_percentage_changes = [((value - portfolio_values[0]) / portfolio_values[0]) * 100 for value in portfolio_values]\n",
    "\n",
    "# Create the figure with two subplots\n",
    "fig, (ax1, ax2) = plt.subplots(2, 1, figsize=(10, 12), sharex=True)\n",
    "\n",
    "# Plot the historical price data as a line chart on the first subplot\n",
    "ax1.plot(test_data.index, test_data['Adj Close'])\n",
    "\n",
    "# Plot the buy and sell actions as red and blue dots, respectively, on the first subplot\n",
    "ax1.scatter(buy_times, buy_prices, color='b', marker='o', label='Buy')\n",
    "ax1.scatter(sell_times, sell_prices, color='r', marker='o', label='Sell')\n",
    "\n",
    "# Set the first subplot's title, x-label, and y-label\n",
    "ax1.set_title('Trading History')\n",
    "ax1.set_xlabel('Time')\n",
    "ax1.set_ylabel('Price')\n",
    "ax1.legend()\n",
    "\n",
    "# Plot the percentage change in the portfolio value on the second subplot\n",
    "ax2.plot(test_data.index, portfolio_percentage_changes, color='g', linestyle='--', label='Portfolio % Change')\n",
    "\n",
    "# Set the second subplot's title, x-label, and y-label\n",
    "ax2.set_title('Portfolio Value Change')\n",
    "ax2.set_xlabel('Time')\n",
    "ax2.set_ylabel('% Change')\n",
    "ax2.legend()\n",
    "\n",
    "# Display the chart\n",
    "plt.show()\n"
   ]
  },
  {
   "cell_type": "markdown",
   "metadata": {},
   "source": [
    "___Run the test again and you will get different result.___\n",
    "\n",
    "\n",
    "<center> <img src=\"https://cf-courses-data.s3.us.cloud-object-storage.appdomain.cloud/IBMSkillsNetwork-GPXX0SQEN/images/meme_honest_work.jpeg\" width=\"40%\" alt=\"Restart kernel\"> </center>\n",
    "\n",
    "\n",
    "When testing the DQN agent, you may observe different results each time due to the agent's exploration strategy, which is governed by the epsilon-greedy policy. The agent uses an exploration rate (`epsilon`) to balance between exploration (trying new actions) and exploitation (using the current best-known action). The agent selects random actions with probability `epsilon`, and as long as `epsilon` is greater than zero, there will be some degree of randomness in the agent's decisions.\n",
    "\n",
    "If you want your agent to act deterministically during testing, you can set the `epsilon` value to zero, which forces the agent to always choose the best-known action based on its current knowledge without any exploration. To do this, you can add a line of code to set `epsilon` to zero before testing:\n",
    "\n",
    "```python\n",
    "\n",
    "agent.epsilon = 0\n",
    "```\n",
    "\n",
    "By doing this, your agent will act deterministically, and you should get the same results each time you test it. Keep in mind that doing this will prevent the agent from exploring new actions, which might be suboptimal if the agent hasn't fully learned the optimal policy during training.\n"
   ]
  },
  {
   "cell_type": "markdown",
   "metadata": {},
   "source": [
    "### Monte Carlo for Testing\n",
    "\n",
    "\n",
    "| <img src=\"https://upload.wikimedia.org/wikipedia/commons/thumb/8/84/Pi_30K.gif/440px-Pi_30K.gif\" width=\"300\" alt=\"human analysis\"> |\n",
    "|:--:| \n",
    "| *Monte Carlo method applied to approximating the value of π.* [Wikipedia](https://en.wikipedia.org/wiki/Monte_Carlo_method#:~:text=Monte%20Carlo%20methods%2C%20or%20Monte,might%20be%20deterministic%20in%20principle.) |\n",
    "\n",
    "\n",
    "\n",
    "For better testing we utilize Monte Carlo method. the concept of Monte Carlo refers to running multiple simulations or tests of the trained agent to estimate the expected performance of the agent. Each run or simulation uses the same agent but with different starting conditions, which are determined by the initial state provided by the environment. This is particularly useful when dealing with environments that have some level of randomness or stochasticity, as it helps provide a more accurate and robust estimate of the agent's performance.\n",
    "\n",
    "By running multiple tests (Monte Carlo runs), we are essentially exploring various possible scenarios in the stock trading environment. The agent's decisions and the subsequent rewards obtained can vary across different runs due to differences in the initial state or changes in the agent's exploration-exploitation trade-off as a result of its epsilon-greedy strategy.\n",
    "\n",
    "After all the Monte Carlo runs are completed, we calculate the average reward over all runs. This average reward gives us a more reliable estimate of the agent's performance than the reward from a single test run, as it captures the agent's behavior across various scenarios. The higher the number of Monte Carlo runs, the more accurate and reliable the estimate of the agent's performance becomes, as it converges to the true expected value.\n"
   ]
  },
  {
   "cell_type": "code",
   "execution_count": null,
   "metadata": {},
   "outputs": [],
   "source": [
    "# Load the test data\n",
    "test_data = test_data\n",
    "\n",
    "# Create the test environment\n",
    "test_env = StockTradingEnv(test_data,initial_cash =100000)\n",
    "\n",
    "# Define the number of Monte Carlo runs\n",
    "monte_carlo_runs = 200\n",
    "rewards = []\n",
    "\n",
    "for run in tqdm(range(monte_carlo_runs)):\n",
    "    # Test the agent\n",
    "    state = test_env.reset()\n",
    "    state = np.reshape(state, [1, state_size])\n",
    "    total_reward = 0\n",
    "\n",
    "    while True:\n",
    "        action = agent.act(state)\n",
    "        next_state, reward, done, _ = test_env.step(action)\n",
    "        total_reward += reward\n",
    "        next_state = np.reshape(next_state, [1, state_size])\n",
    "        state = next_state\n",
    "\n",
    "        if done:\n",
    "            # print(f'Test Run: {run + 1}/{monte_carlo_runs}, Total Reward: {total_reward}')\n",
    "            rewards.append(total_reward)\n",
    "            break\n",
    "\n",
    "# Calculate and print the average reward\n",
    "average_reward = np.mean(rewards)\n",
    "print(f'Average Reward after {monte_carlo_runs} runs: {average_reward}')\n"
   ]
  },
  {
   "cell_type": "markdown",
   "metadata": {},
   "source": [
    "<center> <img src=\"https://cf-courses-data.s3.us.cloud-object-storage.appdomain.cloud/IBMSkillsNetwork-GPXX0SQEN/images/meme_not_bad2.jpeg\" width=\"40%\" alt=\"Obama\"> </center>\n"
   ]
  },
  {
   "cell_type": "markdown",
   "metadata": {},
   "source": [
    "## Step 6: Refine the model\n",
    "\n",
    "\n",
    "Refining a reinforcement learning model involves adjusting its parameters to improve its performance. Here are some common ways to refine a model: \n",
    "\n",
    "\n",
    "<div style=\"display: flex; align-items: center;\">\n",
    "  <img src=\"https://cf-courses-data.s3.us.cloud-object-storage.appdomain.cloud/IBMSkillsNetwork-GPXX0SQEN/images/_5b34b14b-bc6f-4955-b81b-6014f3d08950.jpeg\" width=\"30%\" alt=\"Image\" style=\"padding-right: 10px;\">\n",
    "\n",
    "    \n",
    "1. Adjust the hyperparameters of the reinforcement learning algorithm: Most reinforcement learning algorithms have several hyperparameters, such as the learning rate, discount factor, and exploration rate, that can be adjusted to improve performance. Experiment with different hyperparameters to find the optimal values. \n",
    "2. Adjust the reward function: The reward function determines the agent's objective, so it can have a significant impact on its behavior. Consider adjusting the reward function to better incentivize the desired behavior. \n",
    "3. Adjust the state space: The state space determines the information that the agent has access to when making decisions. Adding or removing features from the state space can improve the agent's ability to make accurate predictions. \n",
    "4. Collect more training data: Training a reinforcement learning model can be data-intensive, so collecting more training data can improve its performance. Consider increasing the amount of training data or collecting data from a wider range of scenarios. \n",
    "5. Change the architecture of the neural network: Many reinforcement learning algorithms use neural networks to estimate values or policies. Changing the architecture of the neural network can sometimes improve performance. \n",
    "6. Use a different reinforcement learning algorithm: There are many different reinforcement learning algorithms, each with its own strengths and weaknesses. Consider trying a different algorithm if the current one is not performing well.\n",
    "\n",
    "</div>\n"
   ]
  },
  {
   "cell_type": "markdown",
   "metadata": {},
   "source": [
    "## Practice: Adding More Data for Training\n",
    "\n",
    "We can load more data and train the model with extra data.\n",
    "\n",
    "Lets have a quick look to more data:\n"
   ]
  },
  {
   "cell_type": "code",
   "execution_count": null,
   "metadata": {},
   "outputs": [],
   "source": [
    "# getting more data\n",
    "tickers = [\"GOOG\",\"IBM\",\"AAPL\",\"META\",\"AMZN\"]  #\"^GSPC\" S&P500\n",
    "df = yf.download(tickers = tickers ,       # list of tickers\n",
    "                  period = \"2y\",         # time period\n",
    "                  interval = \"1h\",       # trading interval\n",
    "                  ignore_tz = True,      # ignore timezone when aligning data from different exchanges?\n",
    "                  prepost = False)       # download pre/post market hours data?  \n",
    "print(\"shape of dataset: \", df.shape)\n",
    "df.head()"
   ]
  },
  {
   "cell_type": "markdown",
   "metadata": {},
   "source": [
    "### plotting the Adj Close for the 5 companies\n",
    "\n",
    "In the code below, loop through each stock in the 'Adj Close' column and plot.\n"
   ]
  },
  {
   "cell_type": "code",
   "execution_count": null,
   "metadata": {},
   "outputs": [],
   "source": [
    "import numpy as np\n",
    "import seaborn as sns\n",
    "import matplotlib.pyplot as plt\n",
    "\n",
    "split_line = int(np.round(len(df) * 0.1))  # use 10% of data for testing\n",
    "\n",
    "# Get min and max of 'Adj Close'\n",
    "adj_close_min = df['Adj Close'].min().min()\n",
    "adj_close_max = df['Adj Close'].max().max()\n",
    "\n",
    "# Set the background color\n",
    "sns.set_style(rc={'axes.facecolor': 'lightsteelblue'})\n",
    "plt.figure(figsize=(12, 4))\n",
    "\n",
    "# Loop through each stock in the 'Adj Close' column and plot\n",
    "# write your code here\n",
    "\n",
    "\n",
    "plt.xticks(rotation=45)\n",
    "plt.title(', '.join(df['Adj Close'].columns))\n",
    "\n",
    "# single vline with full ymin and ymax\n",
    "plt.vlines(x=df.index[-split_line], ymin=adj_close_min, ymax=adj_close_max, colors='green', ls=':', lw=2, label='Train-Test Split Point')\n",
    "\n",
    "plt.legend(bbox_to_anchor=(1.0, 1), loc='upper left')\n",
    "plt.show()\n"
   ]
  },
  {
   "cell_type": "markdown",
   "metadata": {},
   "source": [
    "<details>\n",
    "    <summary>Click here for Solution</summary>\n",
    "\n",
    "```python\n",
    "for stock in df['Adj Close'].columns:\n",
    "    sns.lineplot(data=df['Adj Close'][stock], label=f'Adjusted Close Price - {stock}')\n",
    "```\n",
    "</details>\n"
   ]
  },
  {
   "cell_type": "markdown",
   "metadata": {},
   "source": [
    "### Let's create a function that adds all the indicators to the dataframe\n",
    "\n",
    "Write `add_indicators` function adds several technical indicators (we had before) to a given DataFrame, and remove `na` and remove columns `Open`, `High`, `Low`, `Close`, `Volume`.\n"
   ]
  },
  {
   "cell_type": "code",
   "execution_count": null,
   "metadata": {},
   "outputs": [],
   "source": [
    "# write you function here\n",
    "\n"
   ]
  },
  {
   "cell_type": "markdown",
   "metadata": {},
   "source": [
    "<details>\n",
    "    <summary>Click here for Solution</summary>\n",
    "\n",
    "```python\n",
    "def add_indicators(df):\n",
    "\n",
    "    df['EMA7'] = ta.trend.EMAIndicator(close= df['Adj Close'], window= 7, fillna= False).ema_indicator()\n",
    "    df['EMA14'] = ta.trend.EMAIndicator(close= df['Adj Close'], window= 14, fillna= False).ema_indicator()\n",
    "    df['EMA50'] = ta.trend.EMAIndicator(close= df['Adj Close'], window= 50, fillna= False).ema_indicator()\n",
    "    df['EMA200'] = ta.trend.EMAIndicator(close= df['Adj Close'], window= 50, fillna= False).ema_indicator()\n",
    "    df['MACD_line'] =ta.trend.MACD(close= df['Adj Close'], window_slow= 26, window_fast= 12, window_sign = 9, fillna = False).macd()\n",
    "    df['MACD_signal'] =ta.trend.MACD(close= df['Adj Close'], window_slow= 26, window_fast= 12, window_sign = 9, fillna = False).macd_signal()\n",
    "    df['MACD_diff'] =ta.trend.MACD(close= df['Adj Close'], window_slow= 26, window_fast= 12, window_sign = 9, fillna = False).macd_diff()\n",
    "    df['RSI']=ta.momentum.RSIIndicator(close= df['Adj Close'], window= 14, fillna= False).rsi()\n",
    "    df['OBV']= ta.volume.OnBalanceVolumeIndicator(close= df['Adj Close'], volume= df['Volume'], fillna = False).on_balance_volume()\n",
    "    df['BBH']=ta.volatility.BollingerBands(df['Adj Close'], window = 20, window_dev = 2, fillna = False).bollinger_hband_indicator()\n",
    "    df['BBL']=ta.volatility.BollingerBands(df['Adj Close'], window = 20, window_dev = 2, fillna = False).bollinger_lband_indicator()\n",
    "    df=df.dropna()\n",
    "    df = df.drop(columns=['Open', 'High', 'Low', 'Close', 'Volume'],axis=1)\n",
    "    \n",
    "    return df\n",
    "```\n",
    "</details>\n"
   ]
  },
  {
   "cell_type": "markdown",
   "metadata": {},
   "source": [
    "Now, create separate data frame for each stock data.\n"
   ]
  },
  {
   "cell_type": "code",
   "execution_count": null,
   "metadata": {},
   "outputs": [],
   "source": [
    "# loading individual stock data for every stock and calling add_indicator\n",
    "\n",
    "df_GOOG = yf.download(tickers = 'GOOG' ,period = \"2y\", interval = \"1h\",ignore_tz = True,prepost = False) \n",
    "df_GOOG = add_indicators(df_GOOG)\n",
    "\n",
    "df_IBM = yf.download(tickers = 'IBM' ,period = \"2y\", interval = \"1h\",ignore_tz = True,prepost = False) \n",
    "df_IBM = add_indicators(df_IBM)\n",
    "\n",
    "df_AAPL = yf.download(tickers = 'AAPL' ,period = \"2y\", interval = \"1h\",ignore_tz = True,prepost = False) \n",
    "df_AAPL = add_indicators(df_AAPL)\n",
    "\n",
    "df_META = yf.download(tickers = 'META' ,period = \"2y\", interval = \"1h\",ignore_tz = True,prepost = False) \n",
    "df_META = add_indicators(df_META)\n",
    "\n",
    "df_AMZN = yf.download(tickers = 'AMZN' ,period = \"2y\", interval = \"1h\",ignore_tz = True,prepost = False) \n",
    "df_AMZN = add_indicators(df_AMZN)\n",
    "\n",
    "train_data1 = df_GOOG.iloc[:-split_line,:]\n",
    "train_data2 = df_IBM.iloc[:-split_line,:]\n",
    "train_data3 = df_AAPL.iloc[:-split_line,:]\n",
    "train_data4 = df_META.iloc[:-split_line,:]\n",
    "train_data5 = df_AMZN.iloc[:-split_line,:]\n",
    "\n",
    "train_df_list = [train_data1,train_data2,train_data3,train_data4,train_data5]"
   ]
  },
  {
   "cell_type": "markdown",
   "metadata": {},
   "source": [
    "### Exercise: optimize the above code\n",
    "You can optimize the code by using a loop and a list of stock tickers. In the optimized code, we store the stock tickers in a list called `tickers`. We then loop through the list, downloading the stock data and adding indicators for each ticker. Finally, we split the data and add it to the `train_df_list`. This reduces the amount of repetitive code and makes it easier to add or remove stocks by simply modifying the `tickers` list.\n"
   ]
  },
  {
   "cell_type": "code",
   "execution_count": null,
   "metadata": {},
   "outputs": [],
   "source": [
    "# write your code here\n",
    "\n"
   ]
  },
  {
   "cell_type": "markdown",
   "metadata": {},
   "source": [
    "<details>\n",
    "    <summary>Click here for Solution</summary>\n",
    "    \n",
    "```python\n",
    "\n",
    "import yfinance as yf\n",
    "\n",
    "tickers = ['GOOG', 'IBM', 'AAPL', 'META', 'AMZN']\n",
    "train_df_list = []\n",
    "\n",
    "for ticker in tickers:\n",
    "    df = yf.download(tickers=ticker, period=\"2y\", interval=\"1h\", ignore_tz=True, prepost=False)\n",
    "    df = add_indicators(df)\n",
    "    train_data = df.iloc[:-split_line, :]\n",
    "    train_df_list.append(train_data)\n",
    "```\n",
    "    \n",
    "</details>\n"
   ]
  },
  {
   "cell_type": "markdown",
   "metadata": {},
   "source": [
    "### Training the Model with More Data\n"
   ]
  },
  {
   "cell_type": "code",
   "execution_count": null,
   "metadata": {},
   "outputs": [],
   "source": [
    "'''\n",
    "training loop to handle multiple dataframes like df_1, df_2, df_3, you can create a list of dataframes and loop through them. \n",
    "'''\n",
    "# Load the stock dataframes\n",
    "data_list = train_df_list\n",
    "\n",
    "# Create and train the agent\n",
    "agent = DQNAgent(state_size, env.action_space, memory_size=4000) # increasing the memory size for the agent \n",
    "episodes = 100\n",
    "batch_size = 32\n",
    "\n",
    "for data in data_list:\n",
    "    env = StockTradingEnv(data)\n",
    "    state_size = env.observation_space.shape[0]\n",
    "    action_size = env.action_space.nvec.prod()\n",
    "\n",
    "    for e in tqdm(range(episodes)):\n",
    "        state = env.reset()\n",
    "        state = np.reshape(state, [1, state_size])\n",
    "        total_reward = 0\n",
    "\n",
    "        while True:\n",
    "            action = agent.act(state)\n",
    "            next_state, reward, done, _ = env.step(action)\n",
    "            total_reward += reward\n",
    "            next_state = np.reshape(next_state, [1, state_size])\n",
    "\n",
    "            agent.remember(state, action, reward, next_state, done)\n",
    "            state = next_state\n",
    "\n",
    "            if done:\n",
    "                # print(f'Episode: {e + 1}/{episodes}, Total Reward: {total_reward}, Epsilon: {agent.epsilon:.2}')\n",
    "                break\n",
    "\n",
    "        if len(agent.memory) > batch_size:\n",
    "            agent.replay(batch_size)\n"
   ]
  },
  {
   "cell_type": "raw",
   "metadata": {},
   "source": [
    "Have a cup of coffe, it will take 15 minutes to train the model on 5 datasets.\n",
    "\n",
    "      )  (\n",
    "     (   ) )\n",
    "      ) ( (\n",
    "    _______)_\n",
    " .-'---------|  \n",
    "( C|/\\/\\/\\/\\/|\n",
    " '-./\\/\\/\\/\\/|\n",
    "   '_________'\n",
    "    '-------'\n"
   ]
  },
  {
   "cell_type": "markdown",
   "metadata": {},
   "source": [
    "### Testing the Data\n",
    "\n",
    "let's split the Apple stock data using `split_line` , that we defined before, for testing purpose.\n"
   ]
  },
  {
   "cell_type": "code",
   "execution_count": null,
   "metadata": {},
   "outputs": [],
   "source": [
    "# using Apple data for testing\n",
    "# write your code here\n",
    "\n",
    "\n",
    "\n",
    "# Create the test environment\n",
    "test_env = StockTradingEnv(test_data,initial_cash =10000)\n",
    "\n",
    "# Define the number of Monte Carlo runs\n",
    "monte_carlo_runs = 200\n",
    "rewards = []\n",
    "\n",
    "for run in tqdm(range(monte_carlo_runs)):\n",
    "    # Test the agent\n",
    "    state = test_env.reset()\n",
    "    state = np.reshape(state, [1, state_size])\n",
    "    total_reward = 0\n",
    "\n",
    "    while True:\n",
    "        action = agent.act(state)\n",
    "        next_state, reward, done, _ = test_env.step(action)\n",
    "        total_reward += reward\n",
    "        next_state = np.reshape(next_state, [1, state_size])\n",
    "        state = next_state\n",
    "\n",
    "        if done:\n",
    "            # print(f'Test Run: {run + 1}/{monte_carlo_runs}, Total Reward: {total_reward}')\n",
    "            rewards.append(total_reward)\n",
    "            break\n",
    "\n",
    "# Calculate and print the average reward\n",
    "average_reward = np.mean(rewards)\n",
    "print(f'Average Reward after {monte_carlo_runs} runs: {average_reward}')\n"
   ]
  },
  {
   "cell_type": "markdown",
   "metadata": {},
   "source": [
    "<details>\n",
    "    <summary>Click here for Solution</summary>\n",
    "    \n",
    "```python  \n",
    "\n",
    "test_data = df_AAPL.iloc[-split_line:,:]\n",
    "\n",
    "```\n",
    "</details>\n"
   ]
  },
  {
   "cell_type": "markdown",
   "metadata": {},
   "source": [
    " \n",
    " ### 💡 Some tips to increase the performance. \n",
    " Here are a few modifications you can make to improve the performance of your model: \n",
    "- Normalize the input data: Scaling the input features can help your neural network to learn more effectively. Add a function in your `StockTradingEnv` class to normalize the input data, and apply it to your observation data:\n",
    "\n",
    "```python\n",
    "\n",
    "from sklearn.preprocessing import MinMaxScaler\n",
    "\n",
    "class StockTradingEnv(gym.Env):\n",
    "    # ...\n",
    "\n",
    "    def _normalize_data(self, data):\n",
    "        scaler = MinMaxScaler()\n",
    "        return scaler.fit_transform(data)\n",
    "\n",
    "    def _get_obs(self):\n",
    "        # Calculate the observation vector for the current step\n",
    "        obs = np.array([\n",
    "            # ...\n",
    "        ])\n",
    "\n",
    "        # Normalize the observation vector\n",
    "        obs = self._normalize_data(obs)\n",
    "\n",
    "        # Return the observation vector\n",
    "        return obs\n",
    "```\n",
    "\n",
    " \n",
    "- Add more layers or increase the number of neurons in the neural network: A more complex model can potentially capture more intricate patterns in the data. However, keep in mind that increasing the complexity of the model might also increase the risk of overfitting. Modify the `_build_model` method in your `DQNAgent` class:\n",
    "\n",
    "```python\n",
    "\n",
    "def _build_model(self):\n",
    "    # Build the neural network model\n",
    "    model = Sequential()\n",
    "    model.add(Dense(128, input_dim=self.state_size, activation='relu'))\n",
    "    model.add(Dense(128, activation='relu'))\n",
    "    model.add(Dense(256, activation='relu'))\n",
    "    model.add(Dense(512, activation='relu'))\n",
    "    model.add(Dense(128, activation='relu'))\n",
    "    model.add(Dense(self.action_size, activation='linear'))\n",
    "    model.compile(loss='mse', optimizer=Adam(lr=self.learning_rate))\n",
    "    return model\n",
    "```\n",
    "\n",
    " \n",
    "- Increase the memory size: A larger memory size can potentially help your agent remember more experiences and learn from them. Update the memory size in your `DQNAgent` class:\n",
    "\n",
    "```python\n",
    "\n",
    "class DQNAgent:\n",
    "    def __init__(self, state_size, action_space):\n",
    "        # ...\n",
    "        self.memory = deque(maxlen=5000)\n",
    "        # ...\n",
    "```\n",
    "\n",
    " \n",
    "- Adjust hyperparameters: Experiment with different values for `gamma`, `epsilon_decay`, and `learning_rate` in your `DQNAgent` class. There is no one-size-fits-all solution for these hyperparameters, and you may need to try different combinations to find the best values for your specific problem.\n",
    "\n",
    "Remember that even with these modifications, it's important to test and validate the model on different datasets and time periods to ensure it generalizes well to unseen data. Also, note that the stock market is inherently unpredictable, and even a well-trained model may not always produce profitable results.\n"
   ]
  },
  {
   "cell_type": "markdown",
   "metadata": {},
   "source": [
    "## Authors\n"
   ]
  },
  {
   "cell_type": "markdown",
   "metadata": {},
   "source": [
    "|  |  |\n",
    "|---|---|\n",
    "| **Sina Nazeri**  | [linkedin](https://www.linkedin.com/in/sina-nazeri) |\n",
    "| ![Sina](https://cf-courses-data.s3.us.cloud-object-storage.appdomain.cloud/IBMSkillsNetwork-GPXX0Q8REN/images/sina_low_qual.jpeg) | As a data scientist in IBM, I have always been passionate about sharing my knowledge and helping others learn about the field. I believe that everyone should have the opportunity to learn about data science, regardless of their background or experience level. This belief has inspired me to become a learning content provider, creating and sharing educational materials that are accessible and engaging for everyone. |\n"
   ]
  },
  {
   "cell_type": "markdown",
   "metadata": {},
   "source": [
    "### Other Contributors\n"
   ]
  },
  {
   "cell_type": "markdown",
   "metadata": {},
   "source": [
    "Joseph Santarcangelo\n",
    "\n",
    "J.C.(Junxing) Chen \n",
    "\n",
    "Sheng-Kai Chen \n",
    "\n",
    "Artem Arutyunov \n",
    "\n",
    "Justin Correia \n",
    "\n",
    "Roodra Kanwar \n",
    "\n",
    "Vicky Kuo\n"
   ]
  },
  {
   "cell_type": "markdown",
   "metadata": {},
   "source": [
    "## Change Log\n"
   ]
  },
  {
   "cell_type": "markdown",
   "metadata": {},
   "source": [
    "|Date (YYYY-MM-DD)|Version|Changed By|Change Description|\n",
    "|-|-|-|-|\n",
    "|2023-06-01|0.1|Sina Nazeri|Create Lab Template|\n"
   ]
  },
  {
   "cell_type": "markdown",
   "metadata": {},
   "source": [
    "Copyright © 2022 IBM Corporation. All rights reserved.\n"
   ]
  }
 ],
 "metadata": {
  "kernelspec": {
   "display_name": ".venv",
   "language": "python",
   "name": "python3"
  },
  "language_info": {
   "codemirror_mode": {
    "name": "ipython",
    "version": 3
   },
   "file_extension": ".py",
   "mimetype": "text/x-python",
   "name": "python",
   "nbconvert_exporter": "python",
   "pygments_lexer": "ipython3",
   "version": "3.10.4"
  }
 },
 "nbformat": 4,
 "nbformat_minor": 4
}
